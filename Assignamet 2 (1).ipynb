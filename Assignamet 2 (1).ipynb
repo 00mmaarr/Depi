{
 "cells": [
  {
   "cell_type": "markdown",
   "metadata": {},
   "source": [
    "## Python Task"
   ]
  },
  {
   "cell_type": "markdown",
   "metadata": {},
   "source": [
    "### 1. Question: Merge and Sort Two Lists\n",
    "\n",
    "**Description:** Given two lists of integers, merge them into one list and sort the result in ascending order. Do not use Python's built-in sort() function or other sorting functions.\n",
    "\n",
    "\n"
   ]
  },
  {
   "cell_type": "code",
   "execution_count": 2,
   "metadata": {},
   "outputs": [
    {
     "name": "stdout",
     "output_type": "stream",
     "text": [
      "[0, 1, 2, 3, 4, 5]\n"
     ]
    }
   ],
   "source": [
    "\n",
    "def merge_and_sort(list1, list2):\n",
    "    merged_list = list1 + list2\n",
    "    for i in range(len(merged_list)):\n",
    "        for j in range(i + 1, len(merged_list)):\n",
    "            if merged_list[i] > merged_list[j]:\n",
    "                merged_list[i], merged_list[j] = merged_list[j], merged_list[i]\n",
    "    return merged_list\n",
    "list1 = [3, 1, 4]\n",
    "list2 = [2, 5, 0]\n",
    "sorted_list = merge_and_sort(list1, list2)\n",
    "print(sorted_list)  # Output: [0, 1, 2, 3, 4, 5]\n"
   ]
  },
  {
   "cell_type": "markdown",
   "metadata": {},
   "source": [
    "### 2. Question: Repeat Characters in a String\n",
    "\n",
    "**Description:** Given a string, create a new string by repeating each character in the original string n times. \n",
    "\n",
    "Assume n is given and always a positive integer. \n",
    "\n",
    "Do not use if statements in your solution.\n"
   ]
  },
  {
   "cell_type": "code",
   "execution_count": 40,
   "metadata": {},
   "outputs": [
    {
     "data": {
      "text/plain": [
       "'\\n# Example Input:\\ns = \"abc\"\\nn = 3\\n\\n# Example Output:\\n\"aaabbbccc\"\\n\\n'"
      ]
     },
     "execution_count": 40,
     "metadata": {},
     "output_type": "execute_result"
    }
   ],
   "source": [
    "'''\n",
    "# Example Input:\n",
    "s = \"abc\"\n",
    "n = 3\n",
    "\n",
    "# Example Output:\n",
    "\"aaabbbccc\"\n",
    "\n",
    "'''"
   ]
  },
  {
   "cell_type": "code",
   "execution_count": null,
   "metadata": {},
   "outputs": [],
   "source": [
    "def repeat_characters(s, n):\n",
    "    return ''.join([char * n for char in s])\n",
    "s = input(\"Enter a string: \")\n",
    "n = int(input(\"Enter the number of repetitions: \"))\n",
    "new_string = repeat_characters(s, n)\n",
    "print(new_string)\n"
   ]
  },
  {
   "cell_type": "code",
   "execution_count": null,
   "metadata": {},
   "outputs": [],
   "source": []
  }
 ],
 "metadata": {
  "kernelspec": {
   "display_name": "Python 3 (ipykernel)",
   "language": "python",
   "name": "python3"
  },
  "language_info": {
   "codemirror_mode": {
    "name": "ipython",
    "version": 3
   },
   "file_extension": ".py",
   "mimetype": "text/x-python",
   "name": "python",
   "nbconvert_exporter": "python",
   "pygments_lexer": "ipython3",
   "version": "3.12.7"
  },
  "panel-cell-order": [
   "0f3634f8",
   "73e382a9",
   "4074179c",
   "9c5fbd0b"
  ]
 },
 "nbformat": 4,
 "nbformat_minor": 4
}
